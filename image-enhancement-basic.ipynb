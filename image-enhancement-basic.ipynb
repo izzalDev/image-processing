{
  "nbformat": 4,
  "nbformat_minor": 0,
  "metadata": {
    "colab": {
      "name": "Copy of image_enhancement.ipynb",
      "provenance": [],
      "collapsed_sections": [],
      "toc_visible": true,
      "include_colab_link": true
    },
    "kernelspec": {
      "display_name": "Python 3",
      "name": "python3"
    },
    "language_info": {
      "name": "python"
    }
  },
  "cells": [
    {
      "cell_type": "markdown",
      "metadata": {
        "id": "view-in-github",
        "colab_type": "text"
      },
      "source": [
        "<a href=\"https://colab.research.google.com/github/rizal-fd/image-processing/blob/main/image-enhancement-basic.ipynb\" target=\"_parent\"><img src=\"https://colab.research.google.com/assets/colab-badge.svg\" alt=\"Open In Colab\"/></a>"
      ]
    },
    {
      "cell_type": "code",
      "metadata": {
        "id": "08Gno_izvccz"
      },
      "source": [
        "import cv2 as cv\n",
        "import matplotlib.pyplot as plt\n",
        "import numpy as np\n",
        "# Rizal Fadlullah\n",
        "# A11.2019.12070"
      ],
      "execution_count": 101,
      "outputs": []
    },
    {
      "cell_type": "markdown",
      "metadata": {
        "id": "cM_sKaLGXccp"
      },
      "source": [
        "#IMAGE ENHANCEMENT\n",
        "diketahui matriks suatu citra sebagai berikut:\n",
        "\\begin{bmatrix}\n",
        "x1 & x2 & x3 & x4 & x5\\\\\n",
        "49 & 57 & 46 & 81 & 82\\\\\n",
        "72 & 35 & 64 & 83 & 83\\\\\n",
        "41&72&71&31&32\\\\\n",
        "21&87&86&42&31\n",
        "\\end{bmatrix}\n",
        "dengan $x1, x2, x3, x4, x5$ merupakan digit terakhir NIM anda\n",
        "\n",
        "\n"
      ]
    },
    {
      "cell_type": "markdown",
      "metadata": {
        "id": "_8pxTR54CqOl"
      },
      "source": [
        "####Nomor 1\n",
        "Hitung sebaran histogram untuk intensitas tiap pixel!"
      ]
    },
    {
      "cell_type": "code",
      "metadata": {
        "colab": {
          "base_uri": "https://localhost:8080/",
          "height": 52
        },
        "id": "g984B1vP11Qf",
        "outputId": "4efb165e-55c9-4348-f728-a57102b0fcd0"
      },
      "source": [
        "img = np.array(([1,2,0,7,0],[49,57,46,81,82],[72,35,64,83,83],[72,35,64,83,83],[41,72,71,31,32],[21,87,86,42,31]))\n",
        "def compare(out):\n",
        "  plt.subplot(1,2,1)\n",
        "  plt.imshow(img,cmap=\"gray\")\n",
        "  plt.title(\"Original Image\")\n",
        "  plt.axis('off')\n",
        "\n",
        "  plt.subplot(1,2,2)\n",
        "  plt.imshow(out,cmap=\"gray\")\n",
        "  plt.title(\"Output Image\")\n",
        "  plt.axis('off')\n",
        "  plt.show()\n",
        "\n",
        "#Histogram\n",
        "plt.title(\"Grayscale Histogram\")\n",
        "plt.xlabel(\"grayscale value\")\n",
        "plt.ylabel(\"pixel Count\")\n",
        "plt.hist(img.flatten())\n",
        "plt.show()"
      ],
      "execution_count": 102,
      "outputs": [
        {
          "output_type": "display_data",
          "data": {
            "image/png": "[encoded data removed]",
            "text/plain": [
              "<Figure size 432x288 with 1 Axes>"
            ]
          },
          "metadata": {
            "needs_background": "light"
          }
        }
      ]
    },
    {
      "cell_type": "markdown",
      "metadata": {
        "id": "1klCZ701az_0"
      },
      "source": [
        "####Nomor 2\n",
        "Hitung matriks inversi dengan $Fmaks = 127$!\n",
        "\n",
        "    $f(x,y)'=255-f(x,y)$"
      ]
    },
    {
      "cell_type": "code",
      "metadata": {
        "colab": {
          "base_uri": "https://localhost:8080/",
          "height": 151
        },
        "id": "sX6fBpT95SSB",
        "outputId": "f2971144-f260-4c5b-d259-fa4695230367"
      },
      "source": [
        "out = 127-img\n",
        "compare(out)\n",
        "print(out)"
      ],
      "execution_count": 103,
      "outputs": [
        {
          "output_type": "display_data",
          "data": {
            "image/png": "[encoded data removed]",
            "text/plain": [
              "<Figure size 432x288 with 2 Axes>"
            ]
          },
          "metadata": {
            "needs_background": "light"
          }
        },
        {
          "output_type": "stream",
          "name": "stdout",
          "text": [
            "[[126 125 127 120 127]\n",
            " [ 78  70  81  46  45]\n",
            " [ 55  92  63  44  44]\n",
            " [ 55  92  63  44  44]\n",
            " [ 86  55  56  96  95]\n",
            " [106  40  41  85  96]]\n"
          ]
        }
      ]
    },
    {
      "cell_type": "markdown",
      "metadata": {
        "id": "ytpgadOncCli"
      },
      "source": [
        "####Nomor 3\n",
        "Hitung matriks hasil peningkatan kontras dengan nilai konstanta 33 !\n",
        "\n",
        "  $f(x,y)'=f(x,y)\\times k$"
      ]
    },
    {
      "cell_type": "code",
      "metadata": {
        "colab": {
          "base_uri": "https://localhost:8080/"
        },
        "id": "dZc-Ao_C6L5K",
        "outputId": "177e8b0a-3f5c-488d-cd6b-ce29de9a1735"
      },
      "source": [
        "out = img*33\n",
        "print(out)"
      ],
      "execution_count": 104,
      "outputs": [
        {
          "output_type": "stream",
          "name": "stdout",
          "text": [
            "[[  33   66    0  231    0]\n",
            " [1617 1881 1518 2673 2706]\n",
            " [2376 1155 2112 2739 2739]\n",
            " [2376 1155 2112 2739 2739]\n",
            " [1353 2376 2343 1023 1056]\n",
            " [ 693 2871 2838 1386 1023]]\n"
          ]
        }
      ]
    },
    {
      "cell_type": "code",
      "metadata": {
        "colab": {
          "base_uri": "https://localhost:8080/",
          "height": 52
        },
        "id": "MLcc8zdl6YTR",
        "outputId": "bc2c1a1f-2463-4e37-ed0a-8808fa6275ec"
      },
      "source": [
        "compare(out)"
      ],
      "execution_count": 105,
      "outputs": [
        {
          "output_type": "display_data",
          "data": {
            "image/png": "[encoded data removed]",
            "text/plain": [
              "<Figure size 432x288 with 2 Axes>"
            ]
          },
          "metadata": {
            "needs_background": "light"
          }
        }
      ]
    },
    {
      "cell_type": "markdown",
      "metadata": {
        "id": "CIWmPDqkpM4_"
      },
      "source": [
        "####Nomor 4\n",
        "Hitung matriks hasil peningkatan kecerahan dengan nilai kostasnta 33 !\n",
        "\n",
        "  $f(x,y)'=f(x,y)\\pm k$"
      ]
    },
    {
      "cell_type": "code",
      "metadata": {
        "colab": {
          "base_uri": "https://localhost:8080/"
        },
        "id": "WM7Tejm-6wpk",
        "outputId": "ec83d7f4-533b-474d-cd75-9e880c1458bf"
      },
      "source": [
        "out=img+33\n",
        "print(out)"
      ],
      "execution_count": 106,
      "outputs": [
        {
          "output_type": "stream",
          "name": "stdout",
          "text": [
            "[[ 34  35  33  40  33]\n",
            " [ 82  90  79 114 115]\n",
            " [105  68  97 116 116]\n",
            " [105  68  97 116 116]\n",
            " [ 74 105 104  64  65]\n",
            " [ 54 120 119  75  64]]\n"
          ]
        }
      ]
    },
    {
      "cell_type": "code",
      "metadata": {
        "colab": {
          "base_uri": "https://localhost:8080/",
          "height": 52
        },
        "id": "rmrUmXMI6-Ot",
        "outputId": "ce3496f6-a99f-4eba-a837-693da6a93ee7"
      },
      "source": [
        "compare(out)"
      ],
      "execution_count": 107,
      "outputs": [
        {
          "output_type": "display_data",
          "data": {
            "image/png": "[encoded data removed]",
            "text/plain": [
              "<Figure size 432x288 with 2 Axes>"
            ]
          },
          "metadata": {
            "needs_background": "light"
          }
        }
      ]
    },
    {
      "cell_type": "markdown",
      "metadata": {
        "id": "NVQtgV6Acmx1"
      },
      "source": [
        "####Nomor 5\n",
        "Hitung matriks hasil perbaikan dengan metode korelasi yang memiliki kernel 3x3 !\n",
        "\n",
        "  $h(x,y)=f(x,y)*g(x,y)=\\sum_{k=1}^{M}\\sum_{l=1}^{N}f(k,l)\\times g(x-k,y-l) $\n",
        "\n",
        "  Jika jumlah nilai di dalam kernel > 1, maka $h(x,y)$ dibagi dengan jumlah tersebut. Jika jumlahnya nol, maka $h(x,y)$ dibagi dengan 1"
      ]
    },
    {
      "cell_type": "code",
      "metadata": {
        "colab": {
          "base_uri": "https://localhost:8080/"
        },
        "id": "kWedr0ICAQ6C",
        "outputId": "a60df3a3-78c3-47c0-a830-0c4accfaba2f"
      },
      "source": [
        "kernel=np.array([[0,1,0],\n",
        "                 [-1,1,-1],\n",
        "                 [0,1,0]])\n",
        "out = cv.filter2D(img.astype(np.uint8),-1,kernel)\n",
        "print(out)"
      ],
      "execution_count": 108,
      "outputs": [
        {
          "output_type": "stream",
          "name": "stdout",
          "text": [
            "[[ 95 115  83 169 150]\n",
            " [  8   0   0  43   3]\n",
            " [123   0  56 100  82]\n",
            " [115   6  81  50  32]\n",
            " [  0  82 118  53  84]\n",
            " [  0 124  99   0  11]]\n"
          ]
        }
      ]
    },
    {
      "cell_type": "code",
      "metadata": {
        "colab": {
          "base_uri": "https://localhost:8080/",
          "height": 52
        },
        "id": "IBYJOdJlDoXX",
        "outputId": "a24084ea-d6ad-4cc1-870d-af117a9518b8"
      },
      "source": [
        "compare(out)"
      ],
      "execution_count": 109,
      "outputs": [
        {
          "output_type": "display_data",
          "data": {
            "image/png": "[encoded data removed]",
            "text/plain": [
              "<Figure size 432x288 with 2 Axes>"
            ]
          },
          "metadata": {
            "needs_background": "light"
          }
        }
      ]
    },
    {
      "cell_type": "markdown",
      "metadata": {
        "id": "bEpKi_wCczkg"
      },
      "source": [
        "####Nomor 6\n",
        "\n",
        "Hitung matriks hasil perbaikan dengan Gaussian Filter dengan memilih $\\sigma^2=2$, dan nilai pada titik $(0,0)=1$ !\n",
        "\n",
        "  $g(x,y)=\\frac{1}{2\\pi \\sigma^2}e^{-\\frac{x^2 +y^2}{2\\sigma^2}}$\n"
      ]
    },
    {
      "cell_type": "code",
      "metadata": {
        "colab": {
          "base_uri": "https://localhost:8080/"
        },
        "id": "e2319hnLEsMj",
        "outputId": "5ee9dc6b-c0d7-41c9-f46a-fed7e32fe5a7"
      },
      "source": [
        "def gaussian (sz,sigma):\n",
        "  gaussian = np.zeros((sz,sz))\n",
        "  m=sz//2\n",
        "  for x in range(-m,m+1):\n",
        "    for y in range(-m,m+1):\n",
        "      x1=2*np.pi*sigma**2\n",
        "      x2=np.exp(-(y**2+x**2)/(2*sigma**2))\n",
        "      gaussian[x+m,y+m]=1/x1*x2\n",
        "  return gaussian\n",
        "kernel=gaussian(3,np.sqrt(2))\n",
        "print(kernel)"
      ],
      "execution_count": 110,
      "outputs": [
        {
          "output_type": "stream",
          "name": "stdout",
          "text": [
            "[[0.04826618 0.061975   0.04826618]\n",
            " [0.061975   0.07957747 0.061975  ]\n",
            " [0.04826618 0.061975   0.04826618]]\n"
          ]
        }
      ]
    },
    {
      "cell_type": "code",
      "metadata": {
        "colab": {
          "base_uri": "https://localhost:8080/"
        },
        "id": "GDShD-98rgox",
        "outputId": "77669528-61af-4599-df2c-5da49f1c301b"
      },
      "source": [
        "kernel[1,1]=1\n",
        "print(kernel)"
      ],
      "execution_count": 111,
      "outputs": [
        {
          "output_type": "stream",
          "name": "stdout",
          "text": [
            "[[0.04826618 0.061975   0.04826618]\n",
            " [0.061975   1.         0.061975  ]\n",
            " [0.04826618 0.061975   0.04826618]]\n"
          ]
        }
      ]
    },
    {
      "cell_type": "code",
      "metadata": {
        "colab": {
          "base_uri": "https://localhost:8080/"
        },
        "id": "ImLJErt0Ha6T",
        "outputId": "729bc0a7-5c63-4805-d517-83cba75086dc"
      },
      "source": [
        "out = cv.filter2D(img.astype(np.uint8),-1,kernel)\n",
        "print(out)"
      ],
      "execution_count": 112,
      "outputs": [
        {
          "output_type": "stream",
          "name": "stdout",
          "text": [
            "[[ 18  18  20  29  27]\n",
            " [ 64  72  65 102 106]\n",
            " [ 93  60  90 116 119]\n",
            " [ 94  62  90 111 111]\n",
            " [ 67  98  99  58  55]\n",
            " [ 51 113 113  63  46]]\n"
          ]
        }
      ]
    },
    {
      "cell_type": "code",
      "metadata": {
        "id": "4bvfEkEdIF8Y",
        "colab": {
          "base_uri": "https://localhost:8080/",
          "height": 52
        },
        "outputId": "596b8e88-b7f9-42d1-e57d-8333570e58f2"
      },
      "source": [
        "compare(out)"
      ],
      "execution_count": 113,
      "outputs": [
        {
          "output_type": "display_data",
          "data": {
            "image/png": "[encoded data removed]",
            "text/plain": [
              "<Figure size 432x288 with 2 Axes>"
            ]
          },
          "metadata": {
            "needs_background": "light"
          }
        }
      ]
    }
  ]
}