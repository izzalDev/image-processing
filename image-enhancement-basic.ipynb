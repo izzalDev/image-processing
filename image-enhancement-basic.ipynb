{
  "nbformat": 4,
  "nbformat_minor": 0,
  "metadata": {
    "colab": {
      "name": "Copy of image_enhancement.ipynb",
      "provenance": [],
      "collapsed_sections": [],
      "include_colab_link": true
    },
    "kernelspec": {
      "display_name": "Python 3",
      "name": "python3"
    },
    "language_info": {
      "name": "python"
    }
  },
  "cells": [
    {
      "cell_type": "markdown",
      "metadata": {
        "id": "view-in-github",
        "colab_type": "text"
      },
      "source": [
        "<a href=\"https://colab.research.google.com/github/rizal-fd/image-processing/blob/main/image-enhancement-basic.ipynb\" target=\"_parent\"><img src=\"https://colab.research.google.com/assets/colab-badge.svg\" alt=\"Open In Colab\"/></a>"
      ]
    },
    {
      "cell_type": "code",
      "metadata": {
        "id": "08Gno_izvccz"
      },
      "source": [
        "import cv2 as cv\n",
        "import matplotlib.pyplot as plt\n",
        "import numpy as np\n",
        "# Rizal Fadlullah\n",
        "# A11.2019.12070"
      ],
      "execution_count": null,
      "outputs": []
    },
    {
      "cell_type": "markdown",
      "metadata": {
        "id": "cM_sKaLGXccp"
      },
      "source": [
        "#IMAGE ENHANCEMENT\n",
        "diketahui matriks suatu citra sebagai berikut:\n",
        "\\begin{bmatrix}\n",
        "x1 & x2 & x3 & x4 & x5\\\\\n",
        "49 & 57 & 46 & 81 & 82\\\\\n",
        "72 & 35 & 64 & 83 & 83\\\\\n",
        "41&72&71&31&32\\\\\n",
        "21&87&86&42&31\n",
        "\\end{bmatrix}\n",
        "dengan $x1, x2, x3, x4, x5$ merupakan digit terakhir NIM anda\n",
        "1. Hitung sebaran histogram untuk intensitas tiap pixel!\n"
      ]
    },
    {
      "cell_type": "code",
      "metadata": {
        "colab": {
          "base_uri": "https://localhost:8080/",
          "height": 295
        },
        "id": "g984B1vP11Qf",
        "outputId": "318cb0fb-f2a2-479a-b882-cfcaf3df0648"
      },
      "source": [
        "img = np.array(([1,2,0,7,0],[49,57,46,81,82],[72,35,64,83,83],[72,35,64,83,83],[41,72,71,31,32],[21,87,86,42,31]),dtype=int)\n",
        "def compare(out):\n",
        "  plt.subplot(1,2,1)\n",
        "  plt.imshow(img,cmap=\"gray\")\n",
        "  plt.title(\"Original Image\")\n",
        "\n",
        "  plt.subplot(1,2,2)\n",
        "  plt.imshow(out,cmap=\"gray\")\n",
        "  plt.title(\"Output Image\")\n",
        "  plt.show()\n",
        "\n",
        "#Histogram\n",
        "plt.title(\"Grayscale Histogram\")\n",
        "plt.xlabel(\"grayscale value\")\n",
        "plt.ylabel(\"pixel Count\")\n",
        "plt.hist(img.flatten(),range=(0,256),bins=256)\n",
        "plt.show()"
      ],
      "execution_count": null,
      "outputs": [
        {
          "output_type": "display_data",
          "data": {
            "image/png": "[encoded data removed]",
            "text/plain": [
              "<Figure size 432x288 with 1 Axes>"
            ]
          },
          "metadata": {
            "needs_background": "light"
          }
        }
      ]
    },
    {
      "cell_type": "markdown",
      "metadata": {
        "id": "1klCZ701az_0"
      },
      "source": [
        "2. Hitung matriks inversi dengan $Fmaks = 127$!\n",
        "\n",
        "    $f(x,y)'=255-f(x,y)$"
      ]
    },
    {
      "cell_type": "code",
      "metadata": {
        "colab": {
          "base_uri": "https://localhost:8080/",
          "height": 345
        },
        "id": "sX6fBpT95SSB",
        "outputId": "b62df7cf-7487-41ad-943c-2496200fef08"
      },
      "source": [
        "out = 127-img\n",
        "compare(out)\n",
        "print(out)"
      ],
      "execution_count": null,
      "outputs": [
        {
          "output_type": "display_data",
          "data": {
            "image/png": "[encoded data removed]",
            "text/plain": [
              "<Figure size 432x288 with 2 Axes>"
            ]
          },
          "metadata": {
            "needs_background": "light"
          }
        },
        {
          "output_type": "stream",
          "name": "stdout",
          "text": [
            "[[126 125 127 120 127]\n",
            " [ 78  70  81  46  45]\n",
            " [ 55  92  63  44  44]\n",
            " [ 55  92  63  44  44]\n",
            " [ 86  55  56  96  95]\n",
            " [106  40  41  85  96]]\n"
          ]
        }
      ]
    },
    {
      "cell_type": "markdown",
      "metadata": {
        "id": "ytpgadOncCli"
      },
      "source": [
        "3. Hitung matriks hasil peningkatan kontras dengan nilai konstanta 33 !\n",
        "\n",
        "  $f(x,y)'=f(x,y)\\times k$"
      ]
    },
    {
      "cell_type": "code",
      "metadata": {
        "colab": {
          "base_uri": "https://localhost:8080/"
        },
        "id": "dZc-Ao_C6L5K",
        "outputId": "00d09818-6d69-40a8-e1f5-f30a8e456a4c"
      },
      "source": [
        "out = img*33\n",
        "print(out)"
      ],
      "execution_count": null,
      "outputs": [
        {
          "output_type": "stream",
          "name": "stdout",
          "text": [
            "[[  33   66    0  231    0]\n",
            " [1617 1881 1518 2673 2706]\n",
            " [2376 1155 2112 2739 2739]\n",
            " [2376 1155 2112 2739 2739]\n",
            " [1353 2376 2343 1023 1056]\n",
            " [ 693 2871 2838 1386 1023]]\n"
          ]
        }
      ]
    },
    {
      "cell_type": "code",
      "metadata": {
        "colab": {
          "base_uri": "https://localhost:8080/",
          "height": 247
        },
        "id": "MLcc8zdl6YTR",
        "outputId": "195a6301-9653-488e-fa67-8cead8fd6252"
      },
      "source": [
        "compare(out)"
      ],
      "execution_count": null,
      "outputs": [
        {
          "output_type": "display_data",
          "data": {
            "image/png": "[encoded data removed]",
            "text/plain": [
              "<Figure size 432x288 with 2 Axes>"
            ]
          },
          "metadata": {
            "needs_background": "light"
          }
        }
      ]
    },
    {
      "cell_type": "markdown",
      "metadata": {
        "id": "CIWmPDqkpM4_"
      },
      "source": [
        "4. Hitung matriks hasil peningkatan kecerahan dengan nilai kostasnta 33 !\n",
        "\n",
        "  $f(x,y)'=f(x,y)\\pm k$"
      ]
    },
    {
      "cell_type": "code",
      "metadata": {
        "colab": {
          "base_uri": "https://localhost:8080/"
        },
        "id": "WM7Tejm-6wpk",
        "outputId": "394eb2ce-c2e4-423a-82e2-0f971eebe6cc"
      },
      "source": [
        "out=img+33\n",
        "print(out)"
      ],
      "execution_count": null,
      "outputs": [
        {
          "output_type": "stream",
          "name": "stdout",
          "text": [
            "[[ 34  35  33  40  33]\n",
            " [ 82  90  79 114 115]\n",
            " [105  68  97 116 116]\n",
            " [105  68  97 116 116]\n",
            " [ 74 105 104  64  65]\n",
            " [ 54 120 119  75  64]]\n"
          ]
        }
      ]
    },
    {
      "cell_type": "code",
      "metadata": {
        "colab": {
          "base_uri": "https://localhost:8080/",
          "height": 247
        },
        "id": "rmrUmXMI6-Ot",
        "outputId": "77f5b455-485a-4fb0-fbed-499977979907"
      },
      "source": [
        "compare(out)"
      ],
      "execution_count": null,
      "outputs": [
        {
          "output_type": "display_data",
          "data": {
            "image/png": "[encoded data removed]",
            "text/plain": [
              "<Figure size 432x288 with 2 Axes>"
            ]
          },
          "metadata": {
            "needs_background": "light"
          }
        }
      ]
    },
    {
      "cell_type": "markdown",
      "metadata": {
        "id": "NVQtgV6Acmx1"
      },
      "source": [
        "5. Hitung matriks hasil perbaikan dengan metode korelasi yang memiliki kernel 3x3 !\n",
        "\n",
        "  $h(x,y)=f(x,y)*g(x,y)=\\sum_{k=1}^{M}\\sum_{l=1}^{N}f(k,l)\\times g(x-k,y-l) $\n",
        "\n",
        "  Jika jumlah nilai di dalam kernel > 1, maka $h(x,y)$ dibagi dengan jumlah tersebut. Jika jumlahnya nol, maka $h(x,y)$ dibagi dengan 1"
      ]
    },
    {
      "cell_type": "code",
      "metadata": {
        "colab": {
          "base_uri": "https://localhost:8080/"
        },
        "id": "kWedr0ICAQ6C",
        "outputId": "e8edf970-2838-4b8a-834b-bd9eaee7cdfc"
      },
      "source": [
        "kernel=np.array([[0,1,0],\n",
        "                 [-1,1,-1],\n",
        "                 [0,1,0]])\n",
        "out = cv.filter2D(img.astype(np.uint8),-1,kernel)\n",
        "print(out)"
      ],
      "execution_count": null,
      "outputs": [
        {
          "output_type": "stream",
          "name": "stdout",
          "text": [
            "[[ 95 115  83 169 150]\n",
            " [  8   0   0  43   3]\n",
            " [123   0  56 100  82]\n",
            " [115   6  81  50  32]\n",
            " [  0  82 118  53  84]\n",
            " [  0 124  99   0  11]]\n"
          ]
        }
      ]
    },
    {
      "cell_type": "code",
      "metadata": {
        "colab": {
          "base_uri": "https://localhost:8080/",
          "height": 247
        },
        "id": "IBYJOdJlDoXX",
        "outputId": "e0b9972b-89e6-46f7-e01f-f96c0b6b72d7"
      },
      "source": [
        "compare(out)"
      ],
      "execution_count": null,
      "outputs": [
        {
          "output_type": "display_data",
          "data": {
            "image/png": "[encoded data removed]",
            "text/plain": [
              "<Figure size 432x288 with 2 Axes>"
            ]
          },
          "metadata": {
            "needs_background": "light"
          }
        }
      ]
    },
    {
      "cell_type": "markdown",
      "metadata": {
        "id": "bEpKi_wCczkg"
      },
      "source": [
        "<!-- This is commented out. -->\n",
        "6. Hitung matriks hasil perbaikan dengan Gaussian Filter dengan memilih $\\sigma^2=2$, dan nilai pada titik $(0,0)=1$ !\n",
        "\n",
        "<!-- This is commented out. -->\n",
        "  $g(x,y)=\\frac{1}{2\\pi \\sigma^2}e^{-\\frac{x^2 +y^2}{2\\sigma^2}}$\n"
      ]
    },
    {
      "cell_type": "code",
      "metadata": {
        "colab": {
          "base_uri": "https://localhost:8080/"
        },
        "id": "e2319hnLEsMj",
        "outputId": "79e2ee1a-15d0-40c1-e457-5c9131f6f92c"
      },
      "source": [
        "def gaussian (sz,sigma):\n",
        "  gaussian = np.zeros((sz,sz))\n",
        "  m=sz//2\n",
        "  for x in range(-m,m+1):\n",
        "    for y in range(-m,m+1):\n",
        "      x1=2*np.pi*sigma**2\n",
        "      x2=np.exp(-(y**2+x**2)/(2*sigma**2))\n",
        "      gaussian[x+m,y+m]=1/x1*x2\n",
        "  return gaussian\n",
        "kernel=gaussian(3,np.sqrt(2))\n",
        "print(kernel)"
      ],
      "execution_count": null,
      "outputs": [
        {
          "output_type": "stream",
          "name": "stdout",
          "text": [
            "[[0.04826618 0.061975   0.04826618]\n",
            " [0.061975   0.07957747 0.061975  ]\n",
            " [0.04826618 0.061975   0.04826618]]\n"
          ]
        }
      ]
    },
    {
      "cell_type": "code",
      "metadata": {
        "colab": {
          "base_uri": "https://localhost:8080/"
        },
        "id": "GDShD-98rgox",
        "outputId": "cc0b0101-52fa-4df9-a94b-b5e48c55254e"
      },
      "source": [
        "kernel[1,1]=1\n",
        "print(kernel)"
      ],
      "execution_count": null,
      "outputs": [
        {
          "output_type": "stream",
          "name": "stdout",
          "text": [
            "[[0.04826618 0.061975   0.04826618]\n",
            " [0.061975   1.         0.061975  ]\n",
            " [0.04826618 0.061975   0.04826618]]\n"
          ]
        }
      ]
    },
    {
      "cell_type": "code",
      "metadata": {
        "colab": {
          "base_uri": "https://localhost:8080/"
        },
        "id": "ImLJErt0Ha6T",
        "outputId": "286859a3-b560-40f2-d3ff-f2506d45b995"
      },
      "source": [
        "out = cv.filter2D(img.astype(np.uint8),-1,kernel)\n",
        "print(out)"
      ],
      "execution_count": null,
      "outputs": [
        {
          "output_type": "stream",
          "name": "stdout",
          "text": [
            "[[ 18  18  20  29  27]\n",
            " [ 64  72  65 102 106]\n",
            " [ 93  60  90 116 119]\n",
            " [ 94  62  90 111 111]\n",
            " [ 67  98  99  58  55]\n",
            " [ 51 113 113  63  46]]\n"
          ]
        }
      ]
    },
    {
      "cell_type": "code",
      "metadata": {
        "id": "4bvfEkEdIF8Y",
        "colab": {
          "base_uri": "https://localhost:8080/",
          "height": 247
        },
        "outputId": "aa1fa6f1-2ca1-40c0-efe6-5b6f69dc68a3"
      },
      "source": [
        "compare(out)"
      ],
      "execution_count": null,
      "outputs": [
        {
          "output_type": "display_data",
          "data": {
            "image/png": "[encoded data removed]",
            "text/plain": [
              "<Figure size 432x288 with 2 Axes>"
            ]
          },
          "metadata": {
            "needs_background": "light"
          }
        }
      ]
    }
  ]
}